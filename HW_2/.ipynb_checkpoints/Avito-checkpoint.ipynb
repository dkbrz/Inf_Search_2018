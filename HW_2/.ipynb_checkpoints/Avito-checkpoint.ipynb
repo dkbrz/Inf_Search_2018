{
 "cells": [
  {
   "cell_type": "code",
   "execution_count": 8,
   "metadata": {},
   "outputs": [],
   "source": [
    "import os, re\n",
    "import requests\n",
    "from bs4 import BeautifulSoup\n",
    "from fake_useragent import UserAgent\n",
    "from tqdm import tqdm_notebook as tqdm\n",
    "import random\n",
    "from lxml.html import fromstring\n",
    "import time\n",
    "import pandas as pd\n",
    "\n",
    "ua = UserAgent(verify_ssl=False)"
   ]
  },
  {
   "cell_type": "code",
   "execution_count": 5,
   "metadata": {},
   "outputs": [
    {
     "data": {
      "text/plain": [
       "76"
      ]
     },
     "execution_count": 5,
     "metadata": {},
     "output_type": "execute_result"
    }
   ],
   "source": [
    "def get_proxies():\n",
    "    #url = 'https://free-proxy-list.net/'\n",
    "    url = 'https://free-proxy-list.net/anonymous-proxy.html'\n",
    "    response = requests.get(url)\n",
    "    parser = fromstring(response.text)\n",
    "    proxies = set()\n",
    "    for i in parser.xpath('//tbody/tr')[:500]:\n",
    "        if i.xpath('.//td[7][contains(text(),\"yes\")]'):\n",
    "            #Grabbing IP and corresponding PORT\n",
    "            proxy = \":\".join([i.xpath('.//td[1]/text()')[0], i.xpath('.//td[2]/text()')[0]])\n",
    "            proxies.add(proxy)\n",
    "    return proxies\n",
    "proxies = list(get_proxies())\n",
    "len(proxies)"
   ]
  },
  {
   "cell_type": "code",
   "execution_count": 3,
   "metadata": {},
   "outputs": [
    {
     "data": {
      "text/plain": [
       "['185.39.197.101:8080',\n",
       " '103.232.33.6:32231',\n",
       " '43.229.92.44:23500',\n",
       " '103.73.224.196:8080',\n",
       " '109.72.103.40:61103',\n",
       " '92.46.35.166:41578',\n",
       " '103.197.48.90:23500',\n",
       " '95.67.65.18:53281',\n",
       " '103.70.146.226:8080',\n",
       " '41.215.244.66:38460',\n",
       " '24.217.192.238:47397',\n",
       " '35.199.96.12:80',\n",
       " '94.154.85.214:8080',\n",
       " '212.49.84.113:65103',\n",
       " '79.106.108.110:32231',\n",
       " '119.82.253.182:44145',\n",
       " '85.11.151.92:60903',\n",
       " '176.9.221.148:3128',\n",
       " '186.232.48.70:53281',\n",
       " '178.158.218.230:33347',\n",
       " '176.221.115.26:32752',\n",
       " '46.55.219.131:38812',\n",
       " '46.101.142.157:8080']"
      ]
     },
     "execution_count": 3,
     "metadata": {},
     "output_type": "execute_result"
    }
   ],
   "source": [
    "proxies"
   ]
  },
  {
   "cell_type": "markdown",
   "metadata": {},
   "source": [
    "# Выкачка адресов"
   ]
  },
  {
   "cell_type": "code",
   "execution_count": 6,
   "metadata": {},
   "outputs": [],
   "source": [
    "def get_adresses(i, proxies):\n",
    "    headers = {'User-Agent': ua.random}\n",
    "    x = random.choice(proxies)\n",
    "    proxy = {'https':x, 'http': x}\n",
    "    session = requests.session()\n",
    "    r = session.get(\"http://www.httpbin.org/ip\", proxies=proxy, headers=headers)\n",
    "    print (i+1, r.json()['origin'])\n",
    "    r = session.get('https://www.avito.ru/moskva/vakansii?p={}&view=list'.format(i+1), headers=headers, proxies=proxy)\n",
    "    html = r.text\n",
    "    soup = BeautifulSoup(html, 'lxml')\n",
    "    links = soup.find_all('a', attrs={'class':'description-title-link'})\n",
    "    links = ['https://www.avito.ru'+item['href'] for item in links]\n",
    "    return links"
   ]
  },
  {
   "cell_type": "code",
   "execution_count": 7,
   "metadata": {},
   "outputs": [],
   "source": [
    "def get_all_adresses():\n",
    "    with open('url_list.txt','w',encoding='utf-8') as f:\n",
    "        for i in tqdm(range(100)):\n",
    "            proxies = list(get_proxies())\n",
    "            print (len(proxies), end='\\t')\n",
    "            try:\n",
    "                links = get_adresses(i, proxies)\n",
    "            except:\n",
    "                links = get_adresses(i, proxies)\n",
    "            for url in links:\n",
    "                f.write(url+'\\n')"
   ]
  },
  {
   "cell_type": "code",
   "execution_count": 8,
   "metadata": {},
   "outputs": [],
   "source": [
    "def get_adresses(i):\n",
    "    headers = {'User-Agent': ua.random}\n",
    "    session = requests.session()\n",
    "    r = session.get('https://www.avito.ru/moskva/vakansii?p={}&view=list'.format(i+1), headers=headers)\n",
    "    html = r.text\n",
    "    soup = BeautifulSoup(html, 'lxml')\n",
    "    links = soup.find_all('a', attrs={'class':'description-title-link'})\n",
    "    links = ['https://www.avito.ru'+item['href'] for item in links]\n",
    "    return links\n",
    "\n",
    "def get_all_adresses():\n",
    "    with open('url_list.txt','w',encoding='utf-8') as f:\n",
    "        for i in tqdm(range(100)):\n",
    "            t = True\n",
    "            while t:\n",
    "                try:\n",
    "                    links = get_adresses(i)\n",
    "                    for url in links:\n",
    "                        f.write(url+'\\n')\n",
    "                    x = random.uniform(0.5,2.9)\n",
    "                    time.sleep(x)\n",
    "                    #print (i+1, x)\n",
    "                    t = False\n",
    "                except:\n",
    "                    pass"
   ]
  },
  {
   "cell_type": "code",
   "execution_count": 3,
   "metadata": {
    "scrolled": true
   },
   "outputs": [
    {
     "data": {
      "application/vnd.jupyter.widget-view+json": {
       "model_id": "72291fb5e357419a9d98ec25c5f72669",
       "version_major": 2,
       "version_minor": 0
      },
      "text/plain": [
       "HBox(children=(IntProgress(value=0), HTML(value='')))"
      ]
     },
     "metadata": {},
     "output_type": "display_data"
    },
    {
     "name": "stdout",
     "output_type": "stream",
     "text": [
      "\n"
     ]
    }
   ],
   "source": [
    "get_all_adresses() #03:45"
   ]
  },
  {
   "cell_type": "code",
   "execution_count": 4,
   "metadata": {},
   "outputs": [],
   "source": [
    "os.makedirs('corpora')"
   ]
  },
  {
   "cell_type": "code",
   "execution_count": 2,
   "metadata": {},
   "outputs": [],
   "source": [
    "def load_links():\n",
    "    with open('url_list.txt','r') as f:\n",
    "        links = f.read().split('\\n')\n",
    "    return links"
   ]
  },
  {
   "cell_type": "code",
   "execution_count": 11,
   "metadata": {},
   "outputs": [],
   "source": [
    "def get_data_from_url(url):\n",
    "    d = {}\n",
    "    headers = {'User-Agent': ua.random}\n",
    "    session = requests.session()\n",
    "    r = session.get(url, headers=headers)\n",
    "    html = r.text\n",
    "    #print (html)\n",
    "    soup = BeautifulSoup(html, 'lxml')\n",
    "    x = soup.find_all('span', attrs={'class':'title-info-title-text'})\n",
    "    if x: d['title'] = x[0].text.strip()\n",
    "    else: d['title'] = None\n",
    "    x = soup.find_all('div', attrs={'class':'item-description-text'})\n",
    "    if x: d['description'] =  re.sub('<.*?>','\\n', str(x[0])).strip()\n",
    "    else: d['description'] = ''\n",
    "    for i in soup.find_all('li', attrs={'class':'item-params-list-item'}):\n",
    "        kv = str(i.text).strip().split(':')\n",
    "        d[kv[0].strip()] = kv[1].strip()\n",
    "    address = soup.find_all('span', attrs={'class':'item-map-address'})\n",
    "    if address: d['address'] = address[0].text.strip()\n",
    "    return d"
   ]
  },
  {
   "cell_type": "code",
   "execution_count": 11,
   "metadata": {},
   "outputs": [
    {
     "data": {
      "text/plain": [
       "{'title': 'Педагог по английскому языку',\n",
       " 'description': 'В Семейный клуб «Вдохновение» требуется педагог по английскому языку для проведения групповых занятий в вечернее время с детьми дошкольного и младшего школьного возраста. \\nТребования: \\n- высшее образование;\\n- опыт работы с детьми;\\n- доброжелательность, любовь к детям, стремление к творческому и профессиональному росту;\\n- медицинская книжка.\\nОбязанности:\\n- проведение занятий только на английском языке (без перевода на русскую речь);\\n- подготовка к занятиям, приветствуется инициатива.\\nУсловия:\\n- оформление по ТК РФ;\\n- частичная занятость; \\n- 2-4 раза в неделю;\\n- в группе 6-8 детей;\\n- оплата сдельная.\\n\\nСобеседование состоится после рассмотрения письменных резюме. Срок подачи резюме - до 05 октября 2018 года. Резюме принимаются по e-mail. Наличие фото к резюме обязательно!',\n",
       " 'Сфера деятельности': 'Образование, наука',\n",
       " 'График работы': 'свободный график',\n",
       " 'Опыт работы': 'более 1 года',\n",
       " 'address': 'м.\\xa0Планерная,  \\n Cходненская, д.1'}"
      ]
     },
     "execution_count": 11,
     "metadata": {},
     "output_type": "execute_result"
    }
   ],
   "source": [
    "get_data_from_url('https://www.avito.ru/moskva/vakansii/pedagog_po_angliyskomu_yazyku_1176420097')"
   ]
  },
  {
   "cell_type": "code",
   "execution_count": 15,
   "metadata": {},
   "outputs": [],
   "source": [
    "def get_all_data():\n",
    "    data = pd.DataFrame()\n",
    "    links = load_links()\n",
    "    random.shuffle(links)\n",
    "    k = 0\n",
    "    for url in tqdm(links):\n",
    "        try:\n",
    "        #if True:\n",
    "            d = get_data_from_url(url)\n",
    "            d['name'] = url.split('/')[-1]\n",
    "            if d:\n",
    "                text = d['description']\n",
    "                if 'description' in d: del d['description']\n",
    "                data = data.append(d, ignore_index=True)\n",
    "                with open('./corpora/'+d['name'], 'w', encoding='utf-8') as f:\n",
    "                    f.write(text)   \n",
    "            x = random.uniform(0.8,3.7)\n",
    "            time.sleep(x)\n",
    "            data.to_csv('data.csv', sep='\\t')\n",
    "        except:\n",
    "            k += 1\n",
    "            print ('|', end='\\t')\n",
    "    print ('\\n', k, k/len(links))"
   ]
  },
  {
   "cell_type": "code",
   "execution_count": 16,
   "metadata": {},
   "outputs": [
    {
     "data": {
      "application/vnd.jupyter.widget-view+json": {
       "model_id": "f26565ce87e74cf38a2df66055802db1",
       "version_major": 2,
       "version_minor": 0
      },
      "text/plain": [
       "HBox(children=(IntProgress(value=0, max=10787), HTML(value='')))"
      ]
     },
     "metadata": {},
     "output_type": "display_data"
    },
    {
     "name": "stdout",
     "output_type": "stream",
     "text": [
      "|\t\n",
      " 1 9.270418095856123e-05\n"
     ]
    }
   ],
   "source": [
    "get_all_data() #7:50:39, 1 ошибка"
   ]
  },
  {
   "cell_type": "markdown",
   "metadata": {},
   "source": [
    "## Метаинформация"
   ]
  },
  {
   "cell_type": "code",
   "execution_count": 24,
   "metadata": {},
   "outputs": [],
   "source": [
    "data = pd.read_csv('data.csv', sep='\\t', index_col=0)"
   ]
  },
  {
   "cell_type": "code",
   "execution_count": 25,
   "metadata": {},
   "outputs": [],
   "source": [
    "data = data.drop_duplicates()"
   ]
  },
  {
   "cell_type": "code",
   "execution_count": 29,
   "metadata": {},
   "outputs": [
    {
     "data": {
      "text/html": [
       "<div>\n",
       "<style scoped>\n",
       "    .dataframe tbody tr th:only-of-type {\n",
       "        vertical-align: middle;\n",
       "    }\n",
       "\n",
       "    .dataframe tbody tr th {\n",
       "        vertical-align: top;\n",
       "    }\n",
       "\n",
       "    .dataframe thead th {\n",
       "        text-align: right;\n",
       "    }\n",
       "</style>\n",
       "<table border=\"1\" class=\"dataframe\">\n",
       "  <thead>\n",
       "    <tr style=\"text-align: right;\">\n",
       "      <th></th>\n",
       "      <th>address</th>\n",
       "      <th>name</th>\n",
       "      <th>title</th>\n",
       "      <th>График работы</th>\n",
       "      <th>Опыт работы</th>\n",
       "      <th>Сфера деятельности</th>\n",
       "    </tr>\n",
       "  </thead>\n",
       "  <tbody>\n",
       "    <tr>\n",
       "      <th>0</th>\n",
       "      <td>Москва, м. Бульвар Дмитрия Донского, Старокача...</td>\n",
       "      <td>menedzher_-konsultant_951375511</td>\n",
       "      <td>Менеджер -консультант</td>\n",
       "      <td>полный день</td>\n",
       "      <td>не имеет значения</td>\n",
       "      <td>Продажи</td>\n",
       "    </tr>\n",
       "    <tr>\n",
       "      <th>1</th>\n",
       "      <td>NaN</td>\n",
       "      <td>ohrannik_v_tts_vodnyy_1201120983</td>\n",
       "      <td>Охранник в ТЦ Водный</td>\n",
       "      <td>сменный график</td>\n",
       "      <td>не имеет значения</td>\n",
       "      <td>Охрана, безопасность</td>\n",
       "    </tr>\n",
       "    <tr>\n",
       "      <th>2</th>\n",
       "      <td>Москва, м. Дмитровская, Складочная улица, 1с13</td>\n",
       "      <td>uborka_ofisa_1535259521</td>\n",
       "      <td>Уборка офиса</td>\n",
       "      <td>NaN</td>\n",
       "      <td>NaN</td>\n",
       "      <td>NaN</td>\n",
       "    </tr>\n",
       "    <tr>\n",
       "      <th>3</th>\n",
       "      <td>м. Охотный ряд,  \\n Москва</td>\n",
       "      <td>naborschik_zakazov_1502732417</td>\n",
       "      <td>Наборщик заказов</td>\n",
       "      <td>сменный график</td>\n",
       "      <td>более 1 года</td>\n",
       "      <td>Транспорт, логистика</td>\n",
       "    </tr>\n",
       "    <tr>\n",
       "      <th>4</th>\n",
       "      <td>Москва, м. Нахимовский проспект, Нахимовский п...</td>\n",
       "      <td>voditel_taksi_1394522421</td>\n",
       "      <td>Водитель такси</td>\n",
       "      <td>сменный график</td>\n",
       "      <td>более 3 лет</td>\n",
       "      <td>Автомобильный бизнес</td>\n",
       "    </tr>\n",
       "  </tbody>\n",
       "</table>\n",
       "</div>"
      ],
      "text/plain": [
       "                                             address  \\\n",
       "0  Москва, м. Бульвар Дмитрия Донского, Старокача...   \n",
       "1                                                NaN   \n",
       "2     Москва, м. Дмитровская, Складочная улица, 1с13   \n",
       "3                         м. Охотный ряд,  \\n Москва   \n",
       "4  Москва, м. Нахимовский проспект, Нахимовский п...   \n",
       "\n",
       "                               name                  title   График работы  \\\n",
       "0   menedzher_-konsultant_951375511  Менеджер -консультант     полный день   \n",
       "1  ohrannik_v_tts_vodnyy_1201120983   Охранник в ТЦ Водный  сменный график   \n",
       "2           uborka_ofisa_1535259521           Уборка офиса             NaN   \n",
       "3     naborschik_zakazov_1502732417       Наборщик заказов  сменный график   \n",
       "4          voditel_taksi_1394522421         Водитель такси  сменный график   \n",
       "\n",
       "         Опыт работы    Сфера деятельности  \n",
       "0  не имеет значения               Продажи  \n",
       "1  не имеет значения  Охрана, безопасность  \n",
       "2                NaN                   NaN  \n",
       "3       более 1 года  Транспорт, логистика  \n",
       "4        более 3 лет  Автомобильный бизнес  "
      ]
     },
     "execution_count": 29,
     "metadata": {},
     "output_type": "execute_result"
    }
   ],
   "source": [
    "data.head()"
   ]
  },
  {
   "cell_type": "code",
   "execution_count": 30,
   "metadata": {},
   "outputs": [
    {
     "data": {
      "text/plain": [
       "(9947, 6)"
      ]
     },
     "execution_count": 30,
     "metadata": {},
     "output_type": "execute_result"
    }
   ],
   "source": [
    "data.shape"
   ]
  },
  {
   "cell_type": "code",
   "execution_count": 28,
   "metadata": {},
   "outputs": [],
   "source": [
    "data.to_csv('data.csv', sep='\\t')"
   ]
  }
 ],
 "metadata": {
  "kernelspec": {
   "display_name": "Python 3",
   "language": "python",
   "name": "python3"
  },
  "language_info": {
   "codemirror_mode": {
    "name": "ipython",
    "version": 3
   },
   "file_extension": ".py",
   "mimetype": "text/x-python",
   "name": "python",
   "nbconvert_exporter": "python",
   "pygments_lexer": "ipython3",
   "version": "3.6.6"
  }
 },
 "nbformat": 4,
 "nbformat_minor": 2
}
