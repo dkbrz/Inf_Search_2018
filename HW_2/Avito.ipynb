{
 "cells": [
  {
   "cell_type": "code",
   "execution_count": 7,
   "metadata": {},
   "outputs": [],
   "source": [
    "import os\n",
    "import requests\n",
    "from bs4 import BeautifulSoup\n",
    "soup = BeautifulSoup(html, 'lxml')"
   ]
  },
  {
   "cell_type": "markdown",
   "metadata": {},
   "source": [
    "# Выкачка адресов"
   ]
  },
  {
   "cell_type": "code",
   "execution_count": 16,
   "metadata": {},
   "outputs": [],
   "source": [
    "def get_adresses():\n",
    "    for i in range(1):\n",
    "        r = requests.get('https://www.avito.ru/moskva/vakansii?p={}&view=list'.format(i+1))\n",
    "        html = r.text\n",
    "        for item in soup.find_all('a', attrs={'class':'description-title-link'}):\n",
    "            yield 'https://www.avito.ru'+item['href']"
   ]
  },
  {
   "cell_type": "code",
   "execution_count": 17,
   "metadata": {},
   "outputs": [
    {
     "name": "stdout",
     "output_type": "stream",
     "text": [
      "https://www.avito.ru/moskva/vakansii/operator_sklada_magazina_zhenskoy_odezhdy_1116386898\n",
      "https://www.avito.ru/moskva/vakansii/trebuetsya_voditel_podoydet_bez_avto_1162522296\n",
      "https://www.avito.ru/moskva/vakansii/master_universalplitochnik_otdelochnik_1146289924\n",
      "https://www.avito.ru/moskva/vakansii/pomoschnik_sborschika_mebeli_mozhno_bez_opyta_1311298195\n",
      "https://www.avito.ru/moskva/vakansii/voditel-kurer_1313941672\n",
      "https://www.avito.ru/moskva/vakansii/agent_po_arende_zhiloy_nedvizhimosti_1265434049\n",
      "https://www.avito.ru/moskva/vakansii/povar_bez_opyta_1061134561\n",
      "https://www.avito.ru/moskva/vakansii/elektromontazhnik_montazhnik_eom_1204761965\n",
      "https://www.avito.ru/moskva/vakansii/povar_universal_1338538934\n",
      "https://www.avito.ru/moskva/vakansii/uborschik_tsa_987537927\n",
      "https://www.avito.ru/moskva/vakansii/santehnik_1514705249\n",
      "https://www.avito.ru/moskva/vakansii/rabota_voditelem_taksi_aeroport_domodedovo_959887167\n",
      "https://www.avito.ru/moskva/vakansii/kurer_1490567230\n",
      "https://www.avito.ru/moskva/vakansii/kosmetolog-_estetist_1536768070\n",
      "https://www.avito.ru/moskva/vakansii/voditel_taksi_1289605964\n",
      "https://www.avito.ru/moskva/vakansii/voditel_v_taksi_6040_1182164732\n",
      "https://www.avito.ru/moskva/vakansii/komplektovschik_1239424130\n",
      "https://www.avito.ru/moskva/vakansii/elektromontazhnik_1364051802\n",
      "https://www.avito.ru/moskva/vakansii/voditel_taksi_5050_929519996\n",
      "https://www.avito.ru/moskva/vakansii/menedzher_po_prodazham_ofisnoy_mebeli_1324938911\n",
      "https://www.avito.ru/moskva/vakansii/markirovschikivahta_s_prozhivaniem_1102559081\n",
      "https://www.avito.ru/moskva/vakansii/voditel_taksi_1714832276\n",
      "https://www.avito.ru/moskva/vakansii/voditel_kurer_ezhednevnaya_oplata_1027194167\n",
      "https://www.avito.ru/moskva/vakansii/vakansiya_voditel_voditel_taksi_ne_arenda_1417724844\n",
      "https://www.avito.ru/moskva/vakansii/voditel_taksi_60noch40_993390238\n",
      "https://www.avito.ru/moskva/vakansii/sborschik_mebeli_m._novokosino_1567633866\n",
      "https://www.avito.ru/moskva/vakansii/smetchik_1592050525\n",
      "https://www.avito.ru/moskva/vakansii/voditel_taksi_1063025042\n",
      "https://www.avito.ru/moskva/vakansii/voditel_taksi._arenda_1140201463\n",
      "https://www.avito.ru/moskva/vakansii/voditel_taksi_arenda_1163236493\n",
      "https://www.avito.ru/moskva/vakansii/voditel_taksi_1266698649\n",
      "https://www.avito.ru/moskva/vakansii/razovaya._inventarizatsiya._platim_srazu_nalichnymi_977085278\n",
      "https://www.avito.ru/moskva/vakansii/montazhnik_okon_pvh_1201243562\n",
      "https://www.avito.ru/moskva/vakansii/ohrannik_na_vahtu_1081849663\n",
      "https://www.avito.ru/moskva/vakansii/komplektovschiktsa_kosmetiki_rabota_s_prozhivaniem_1152472608\n",
      "https://www.avito.ru/moskva/vakansii/raskleyschik_obyavleniy_1645949259\n",
      "https://www.avito.ru/moskva/vakansii/montazhnik_lvs_1485494671\n",
      "https://www.avito.ru/moskva/vakansii/menedzher_po_rabote_s_klientami_1296399609\n",
      "https://www.avito.ru/moskva/vakansii/gruzchik_ezhenedelnye_vyplaty_himki_vahta_1128884165\n",
      "https://www.avito.ru/moskva/vakansii/vahta_gruzchiki_na_sklad_himki_1126230344\n",
      "https://www.avito.ru/moskva/vakansii/spetsialist_po_borbe_s_korruptsiey_783637867\n",
      "https://www.avito.ru/moskva/vakansii/gruzchik_1117183445\n",
      "https://www.avito.ru/moskva/vakansii/ohrannik_v_tts_942710520\n",
      "https://www.avito.ru/moskva/vakansii/voditel_taksi_arenda_778315179\n",
      "https://www.avito.ru/moskva/vakansii/gruzchik_ezhednevnye_vyplaty_1389209111\n",
      "https://www.avito.ru/moskva/vakansii/avtomoyschik_s_prozhivaniem_1115898757\n",
      "https://www.avito.ru/moskva/vakansii/voditel._rabota_s_ezhednevnoy_vyplatoy_1696991820\n",
      "https://www.avito.ru/moskva/vakansii/buhgalter_po_stroitelno_montazhnym_rabotam_1015488466\n",
      "https://www.avito.ru/moskva/vakansii/kassir-administrator_1644217509\n",
      "https://www.avito.ru/moskva/vakansii/gruzchik-raznorabochiy_vahta_v_moskve_s_pitaniem_1276776796\n",
      "https://www.avito.ru/moskva/vakansii/voditel_taksi_v_shtat_1315271740\n",
      "https://www.avito.ru/moskva/vakansii/voditel_taksizarplata_1610621267\n",
      "https://www.avito.ru/moskva/vakansii/litsenzirovannyy_ohrannik_1090919333\n",
      "https://www.avito.ru/moskva/vakansii/parikmaher_zhenskiy_master_944772304\n",
      "https://www.avito.ru/moskva/vakansii/merchendayzer_lenta_msk_1623146171\n",
      "https://www.avito.ru/moskva/vakansii/ohrannik_1153579916\n",
      "https://www.avito.ru/moskva/vakansii/formovschik_vahta_1353747417\n",
      "https://www.avito.ru/moskva/vakansii/raznorabochiy_na_proizvodstvo_1556830923\n",
      "https://www.avito.ru/moskva/vakansii/ohrannik_1198543111\n",
      "https://www.avito.ru/moskva/vakansii/ohrannik_840621243\n",
      "https://www.avito.ru/moskva/vakansii/domrabotnitsanik_v_zagorodnyy_dom_s_prozhiv_1450650830\n",
      "https://www.avito.ru/moskva/vakansii/povar-universal_horoshiy_1449138898\n",
      "https://www.avito.ru/moskva/vakansii/povar_na_pischevoe_proizvodstvo_v_den_944307344\n",
      "https://www.avito.ru/moskva/vakansii/prodavets-konsultant_parfyumerii_i_kosmetiki_950127671\n",
      "https://www.avito.ru/moskva/vakansii/voditel_taksi_1312900184\n",
      "https://www.avito.ru/moskva/vakansii/prodavets_-_konsultant_moskva_1165877581\n",
      "https://www.avito.ru/moskva/vakansii/voditel_taksi_arenda_-_bez_komissii_parka_1053826578\n",
      "https://www.avito.ru/moskva/vakansii/gruzchik_novaya_ryazanka_1020695126\n",
      "https://www.avito.ru/moskva/vakansii/voditel_taksi.ezhednevnye_vyplaty_5050_1177161467\n",
      "https://www.avito.ru/moskva/vakansii/ohrannik_bez_litsenzii_961941560\n",
      "https://www.avito.ru/moskva/vakansii/ohrannik_bez_litsenzii_1122541339\n",
      "https://www.avito.ru/moskva/vakansii/menedzher_po_prodazham_m._babushkinskaya_1326238251\n",
      "https://www.avito.ru/moskva/vakansii/menedzher_po_prodazham_m._perovo_971358662\n",
      "https://www.avito.ru/moskva/vakansii/ohrannik_bez_litsenzii_1091903519\n",
      "https://www.avito.ru/moskva/vakansii/pekar-muchnik_m._zhulebino_1372836058\n",
      "https://www.avito.ru/moskva/vakansii/sotrudniki_dlya_proizvodstva_obschestroitelnyh_rabot_1256443059\n",
      "https://www.avito.ru/moskva/vakansii/komplektovschik_816838\n",
      "https://www.avito.ru/moskva/vakansii/peshiy_kurer_ezhednevnaya_oplata_894870842\n",
      "https://www.avito.ru/moskva/vakansii/voditel_s_ezhednevnoy_vyplatoy_1402095770\n",
      "https://www.avito.ru/moskva/vakansii/fasovschik-stikerovschik-komplektovschik_vahta_1387160523\n",
      "https://www.avito.ru/moskva/vakansii/prodavets_1558166054\n",
      "https://www.avito.ru/moskva/vakansii/montazhnik_okon_943608816\n",
      "https://www.avito.ru/moskva/vakansii/vahta_v_moskve_gruzchikupakovschik_v_tipografiyu_1601597494\n",
      "https://www.avito.ru/moskva/vakansii/voditel_taksi_s_ezhednevnoy_vyplatoy_1398962248\n",
      "https://www.avito.ru/moskva/vakansii/plotnik-stolyar_925447689\n",
      "https://www.avito.ru/moskva/vakansii/trebuyutsya_raskleyschiki_obyavleniy_vyplaty_ezhednevno_1085335560\n",
      "https://www.avito.ru/moskva/vakansii/raznorabochiy_1106129298\n",
      "https://www.avito.ru/moskva/vakansii/voditel_taksi_oplata_ezhidnevna_1347992418\n",
      "https://www.avito.ru/moskva/vakansii/voditel_pogruzchika_rabota_v_moskve_1282120890\n",
      "https://www.avito.ru/moskva/vakansii/ohrannik_na_vahtu_v_port_krasnodarskiy_kray_905796682\n",
      "https://www.avito.ru/moskva/vakansii/kurer_v_servisnyy_tsentr_1577976485\n",
      "https://www.avito.ru/moskva/vakansii/prodavets_1675401396\n",
      "https://www.avito.ru/moskva/vakansii/uborschiki_vahta_s_prozhivaniem_1423585175\n",
      "https://www.avito.ru/moskva/vakansii/upakovschik_naushnikov_rabota_s_zhilem_vahta_15_smen_1591188107\n",
      "https://www.avito.ru/moskva/vakansii/sotrudnik_ohrany_1453858979\n",
      "https://www.avito.ru/moskva/vakansii/ohrannik_sklada_g._zhukovskiy_1085739680\n",
      "https://www.avito.ru/moskva/vakansii/kassir_1262743091\n",
      "https://www.avito.ru/moskva/vakansii/ohrannik_v_magazin_sportivnyh_tovarov_1001721656\n",
      "https://www.avito.ru/moskva/vakansii/voditel_taksi_na_zarplatu_1016513598\n",
      "https://www.avito.ru/moskva/vakansii/ohrannik_na_vahtu_bez_litsenzii_1425592902\n"
     ]
    }
   ],
   "source": [
    "for i in get_adresses():\n",
    "    print (i)"
   ]
  },
  {
   "cell_type": "code",
   "execution_count": 2,
   "metadata": {},
   "outputs": [],
   "source": [
    "r = requests.get('https://www.avito.ru/moskva/vakansii?p={}&view=list'.format(1))"
   ]
  },
  {
   "cell_type": "code",
   "execution_count": 5,
   "metadata": {},
   "outputs": [],
   "source": [
    "html = r.text"
   ]
  },
  {
   "cell_type": "code",
   "execution_count": 9,
   "metadata": {},
   "outputs": [
    {
     "data": {
      "text/plain": [
       "100"
      ]
     },
     "execution_count": 9,
     "metadata": {},
     "output_type": "execute_result"
    }
   ],
   "source": [
    "len(soup.find_all('a', attrs={'class':'description-title-link'}))"
   ]
  },
  {
   "cell_type": "code",
   "execution_count": 11,
   "metadata": {},
   "outputs": [
    {
     "name": "stdout",
     "output_type": "stream",
     "text": [
      "https://www.avito.ru/moskva/vakansii/operator_sklada_magazina_zhenskoy_odezhdy_1116386898\n",
      "https://www.avito.ru/moskva/vakansii/trebuetsya_voditel_podoydet_bez_avto_1162522296\n",
      "https://www.avito.ru/moskva/vakansii/master_universalplitochnik_otdelochnik_1146289924\n",
      "https://www.avito.ru/moskva/vakansii/pomoschnik_sborschika_mebeli_mozhno_bez_opyta_1311298195\n",
      "https://www.avito.ru/moskva/vakansii/voditel-kurer_1313941672\n",
      "https://www.avito.ru/moskva/vakansii/agent_po_arende_zhiloy_nedvizhimosti_1265434049\n",
      "https://www.avito.ru/moskva/vakansii/povar_bez_opyta_1061134561\n",
      "https://www.avito.ru/moskva/vakansii/elektromontazhnik_montazhnik_eom_1204761965\n",
      "https://www.avito.ru/moskva/vakansii/povar_universal_1338538934\n",
      "https://www.avito.ru/moskva/vakansii/uborschik_tsa_987537927\n",
      "https://www.avito.ru/moskva/vakansii/santehnik_1514705249\n",
      "https://www.avito.ru/moskva/vakansii/rabota_voditelem_taksi_aeroport_domodedovo_959887167\n",
      "https://www.avito.ru/moskva/vakansii/kurer_1490567230\n",
      "https://www.avito.ru/moskva/vakansii/kosmetolog-_estetist_1536768070\n",
      "https://www.avito.ru/moskva/vakansii/voditel_taksi_1289605964\n",
      "https://www.avito.ru/moskva/vakansii/voditel_v_taksi_6040_1182164732\n",
      "https://www.avito.ru/moskva/vakansii/komplektovschik_1239424130\n",
      "https://www.avito.ru/moskva/vakansii/elektromontazhnik_1364051802\n",
      "https://www.avito.ru/moskva/vakansii/voditel_taksi_5050_929519996\n",
      "https://www.avito.ru/moskva/vakansii/menedzher_po_prodazham_ofisnoy_mebeli_1324938911\n",
      "https://www.avito.ru/moskva/vakansii/markirovschikivahta_s_prozhivaniem_1102559081\n",
      "https://www.avito.ru/moskva/vakansii/voditel_taksi_1714832276\n",
      "https://www.avito.ru/moskva/vakansii/voditel_kurer_ezhednevnaya_oplata_1027194167\n",
      "https://www.avito.ru/moskva/vakansii/vakansiya_voditel_voditel_taksi_ne_arenda_1417724844\n",
      "https://www.avito.ru/moskva/vakansii/voditel_taksi_60noch40_993390238\n",
      "https://www.avito.ru/moskva/vakansii/sborschik_mebeli_m._novokosino_1567633866\n",
      "https://www.avito.ru/moskva/vakansii/smetchik_1592050525\n",
      "https://www.avito.ru/moskva/vakansii/voditel_taksi_1063025042\n",
      "https://www.avito.ru/moskva/vakansii/voditel_taksi._arenda_1140201463\n",
      "https://www.avito.ru/moskva/vakansii/voditel_taksi_arenda_1163236493\n",
      "https://www.avito.ru/moskva/vakansii/voditel_taksi_1266698649\n",
      "https://www.avito.ru/moskva/vakansii/razovaya._inventarizatsiya._platim_srazu_nalichnymi_977085278\n",
      "https://www.avito.ru/moskva/vakansii/montazhnik_okon_pvh_1201243562\n",
      "https://www.avito.ru/moskva/vakansii/ohrannik_na_vahtu_1081849663\n",
      "https://www.avito.ru/moskva/vakansii/komplektovschiktsa_kosmetiki_rabota_s_prozhivaniem_1152472608\n",
      "https://www.avito.ru/moskva/vakansii/raskleyschik_obyavleniy_1645949259\n",
      "https://www.avito.ru/moskva/vakansii/montazhnik_lvs_1485494671\n",
      "https://www.avito.ru/moskva/vakansii/menedzher_po_rabote_s_klientami_1296399609\n",
      "https://www.avito.ru/moskva/vakansii/gruzchik_ezhenedelnye_vyplaty_himki_vahta_1128884165\n",
      "https://www.avito.ru/moskva/vakansii/vahta_gruzchiki_na_sklad_himki_1126230344\n",
      "https://www.avito.ru/moskva/vakansii/spetsialist_po_borbe_s_korruptsiey_783637867\n",
      "https://www.avito.ru/moskva/vakansii/gruzchik_1117183445\n",
      "https://www.avito.ru/moskva/vakansii/ohrannik_v_tts_942710520\n",
      "https://www.avito.ru/moskva/vakansii/voditel_taksi_arenda_778315179\n",
      "https://www.avito.ru/moskva/vakansii/gruzchik_ezhednevnye_vyplaty_1389209111\n",
      "https://www.avito.ru/moskva/vakansii/avtomoyschik_s_prozhivaniem_1115898757\n",
      "https://www.avito.ru/moskva/vakansii/voditel._rabota_s_ezhednevnoy_vyplatoy_1696991820\n",
      "https://www.avito.ru/moskva/vakansii/buhgalter_po_stroitelno_montazhnym_rabotam_1015488466\n",
      "https://www.avito.ru/moskva/vakansii/kassir-administrator_1644217509\n",
      "https://www.avito.ru/moskva/vakansii/gruzchik-raznorabochiy_vahta_v_moskve_s_pitaniem_1276776796\n",
      "https://www.avito.ru/moskva/vakansii/voditel_taksi_v_shtat_1315271740\n",
      "https://www.avito.ru/moskva/vakansii/voditel_taksizarplata_1610621267\n",
      "https://www.avito.ru/moskva/vakansii/litsenzirovannyy_ohrannik_1090919333\n",
      "https://www.avito.ru/moskva/vakansii/parikmaher_zhenskiy_master_944772304\n",
      "https://www.avito.ru/moskva/vakansii/merchendayzer_lenta_msk_1623146171\n",
      "https://www.avito.ru/moskva/vakansii/ohrannik_1153579916\n",
      "https://www.avito.ru/moskva/vakansii/formovschik_vahta_1353747417\n",
      "https://www.avito.ru/moskva/vakansii/raznorabochiy_na_proizvodstvo_1556830923\n",
      "https://www.avito.ru/moskva/vakansii/ohrannik_1198543111\n",
      "https://www.avito.ru/moskva/vakansii/ohrannik_840621243\n",
      "https://www.avito.ru/moskva/vakansii/domrabotnitsanik_v_zagorodnyy_dom_s_prozhiv_1450650830\n",
      "https://www.avito.ru/moskva/vakansii/povar-universal_horoshiy_1449138898\n",
      "https://www.avito.ru/moskva/vakansii/povar_na_pischevoe_proizvodstvo_v_den_944307344\n",
      "https://www.avito.ru/moskva/vakansii/prodavets-konsultant_parfyumerii_i_kosmetiki_950127671\n",
      "https://www.avito.ru/moskva/vakansii/voditel_taksi_1312900184\n",
      "https://www.avito.ru/moskva/vakansii/prodavets_-_konsultant_moskva_1165877581\n",
      "https://www.avito.ru/moskva/vakansii/voditel_taksi_arenda_-_bez_komissii_parka_1053826578\n",
      "https://www.avito.ru/moskva/vakansii/gruzchik_novaya_ryazanka_1020695126\n",
      "https://www.avito.ru/moskva/vakansii/voditel_taksi.ezhednevnye_vyplaty_5050_1177161467\n",
      "https://www.avito.ru/moskva/vakansii/ohrannik_bez_litsenzii_961941560\n",
      "https://www.avito.ru/moskva/vakansii/ohrannik_bez_litsenzii_1122541339\n",
      "https://www.avito.ru/moskva/vakansii/menedzher_po_prodazham_m._babushkinskaya_1326238251\n",
      "https://www.avito.ru/moskva/vakansii/menedzher_po_prodazham_m._perovo_971358662\n",
      "https://www.avito.ru/moskva/vakansii/ohrannik_bez_litsenzii_1091903519\n",
      "https://www.avito.ru/moskva/vakansii/pekar-muchnik_m._zhulebino_1372836058\n",
      "https://www.avito.ru/moskva/vakansii/sotrudniki_dlya_proizvodstva_obschestroitelnyh_rabot_1256443059\n",
      "https://www.avito.ru/moskva/vakansii/komplektovschik_816838\n",
      "https://www.avito.ru/moskva/vakansii/peshiy_kurer_ezhednevnaya_oplata_894870842\n",
      "https://www.avito.ru/moskva/vakansii/voditel_s_ezhednevnoy_vyplatoy_1402095770\n",
      "https://www.avito.ru/moskva/vakansii/fasovschik-stikerovschik-komplektovschik_vahta_1387160523\n",
      "https://www.avito.ru/moskva/vakansii/prodavets_1558166054\n",
      "https://www.avito.ru/moskva/vakansii/montazhnik_okon_943608816\n",
      "https://www.avito.ru/moskva/vakansii/vahta_v_moskve_gruzchikupakovschik_v_tipografiyu_1601597494\n",
      "https://www.avito.ru/moskva/vakansii/voditel_taksi_s_ezhednevnoy_vyplatoy_1398962248\n",
      "https://www.avito.ru/moskva/vakansii/plotnik-stolyar_925447689\n",
      "https://www.avito.ru/moskva/vakansii/trebuyutsya_raskleyschiki_obyavleniy_vyplaty_ezhednevno_1085335560\n",
      "https://www.avito.ru/moskva/vakansii/raznorabochiy_1106129298\n",
      "https://www.avito.ru/moskva/vakansii/voditel_taksi_oplata_ezhidnevna_1347992418\n",
      "https://www.avito.ru/moskva/vakansii/voditel_pogruzchika_rabota_v_moskve_1282120890\n",
      "https://www.avito.ru/moskva/vakansii/ohrannik_na_vahtu_v_port_krasnodarskiy_kray_905796682\n",
      "https://www.avito.ru/moskva/vakansii/kurer_v_servisnyy_tsentr_1577976485\n",
      "https://www.avito.ru/moskva/vakansii/prodavets_1675401396\n",
      "https://www.avito.ru/moskva/vakansii/uborschiki_vahta_s_prozhivaniem_1423585175\n",
      "https://www.avito.ru/moskva/vakansii/upakovschik_naushnikov_rabota_s_zhilem_vahta_15_smen_1591188107\n",
      "https://www.avito.ru/moskva/vakansii/sotrudnik_ohrany_1453858979\n",
      "https://www.avito.ru/moskva/vakansii/ohrannik_sklada_g._zhukovskiy_1085739680\n",
      "https://www.avito.ru/moskva/vakansii/kassir_1262743091\n",
      "https://www.avito.ru/moskva/vakansii/ohrannik_v_magazin_sportivnyh_tovarov_1001721656\n",
      "https://www.avito.ru/moskva/vakansii/voditel_taksi_na_zarplatu_1016513598\n",
      "https://www.avito.ru/moskva/vakansii/ohrannik_na_vahtu_bez_litsenzii_1425592902\n"
     ]
    }
   ],
   "source": [
    "for item in soup.find_all('a', attrs={'class':'description-title-link'}):\n",
    "    print ('https://www.avito.ru'+item['href'])"
   ]
  },
  {
   "cell_type": "code",
   "execution_count": 15,
   "metadata": {},
   "outputs": [
    {
     "ename": "OSError",
     "evalue": "[Errno 22] Invalid argument: 'https://www.avito.ru/moskva/vakansii/ohrannik_na_vahtu_bez_litsenzii_1425592902.txt'",
     "output_type": "error",
     "traceback": [
      "\u001b[1;31m---------------------------------------------------------------------------\u001b[0m",
      "\u001b[1;31mOSError\u001b[0m                                   Traceback (most recent call last)",
      "\u001b[1;32m<ipython-input-15-8627e1fee0b6>\u001b[0m in \u001b[0;36m<module>\u001b[1;34m()\u001b[0m\n\u001b[1;32m----> 1\u001b[1;33m \u001b[1;32mwith\u001b[0m \u001b[0mopen\u001b[0m \u001b[1;33m(\u001b[0m\u001b[1;34m'https://www.avito.ru/moskva/vakansii/ohrannik_na_vahtu_bez_litsenzii_1425592902.txt'\u001b[0m\u001b[1;33m,\u001b[0m \u001b[1;34m'w'\u001b[0m\u001b[1;33m,\u001b[0m \u001b[0mencoding\u001b[0m\u001b[1;33m=\u001b[0m\u001b[1;34m'utf-8'\u001b[0m\u001b[1;33m)\u001b[0m \u001b[1;32mas\u001b[0m \u001b[0mf\u001b[0m\u001b[1;33m:\u001b[0m\u001b[1;33m\u001b[0m\u001b[0m\n\u001b[0m\u001b[0;32m      2\u001b[0m     \u001b[0mprint\u001b[0m \u001b[1;33m(\u001b[0m\u001b[0mi\u001b[0m\u001b[1;33m)\u001b[0m\u001b[1;33m\u001b[0m\u001b[0m\n",
      "\u001b[1;31mOSError\u001b[0m: [Errno 22] Invalid argument: 'https://www.avito.ru/moskva/vakansii/ohrannik_na_vahtu_bez_litsenzii_1425592902.txt'"
     ]
    }
   ],
   "source": [
    "with open ('https://www.avito.ru/moskva/vakansii/ohrannik_na_vahtu_bez_litsenzii_1425592902.txt', 'w', encoding='utf-8') as f:\n",
    "    print (i)"
   ]
  },
  {
   "cell_type": "code",
   "execution_count": null,
   "metadata": {},
   "outputs": [],
   "source": [
    "<a class=\"description-title-link\" id=\"1061134561\" itemprop=\"url\" href=\"/moskva/vakansii/povar_bez_opyta_1061134561\" title=\"Повар без опыта в Москве\"> <span itemprop=\"name\"> Повар без опыта</span> </a>"
   ]
  }
 ],
 "metadata": {
  "kernelspec": {
   "display_name": "Python 3",
   "language": "python",
   "name": "python3"
  },
  "language_info": {
   "codemirror_mode": {
    "name": "ipython",
    "version": 3
   },
   "file_extension": ".py",
   "mimetype": "text/x-python",
   "name": "python",
   "nbconvert_exporter": "python",
   "pygments_lexer": "ipython3",
   "version": "3.6.5"
  }
 },
 "nbformat": 4,
 "nbformat_minor": 2
}
